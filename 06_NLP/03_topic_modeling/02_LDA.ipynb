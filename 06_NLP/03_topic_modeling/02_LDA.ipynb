{
  "nbformat": 4,
  "nbformat_minor": 0,
  "metadata": {
    "colab": {
      "provenance": [],
      "authorship_tag": "ABX9TyMGfUCnkkm04C36Xo6pVZPG",
      "include_colab_link": true
    },
    "kernelspec": {
      "name": "python3",
      "display_name": "Python 3"
    },
    "language_info": {
      "name": "python"
    }
  },
  "cells": [
    {
      "cell_type": "markdown",
      "metadata": {
        "id": "view-in-github",
        "colab_type": "text"
      },
      "source": [
        "<a href=\"https://colab.research.google.com/github/mint-rin/SeSAC/blob/main/topic_modeling_2_LDA.ipynb\" target=\"_parent\"><img src=\"https://colab.research.google.com/assets/colab-badge.svg\" alt=\"Open In Colab\"/></a>"
      ]
    },
    {
      "cell_type": "code",
      "execution_count": 1,
      "metadata": {
        "id": "fPu-IxKNrwf2"
      },
      "outputs": [],
      "source": [
        "docs = ['바나나 사과 포도 포도',\n",
        "         '사과 포도',\n",
        "         '포도 바나나',\n",
        "         '짜장면 짬뽕 탕수육',\n",
        "         '볶음밥 탕수육',\n",
        "         '짜장면 짬뽕',\n",
        "         '된장찌개 김치찌개 김치 비빔밥',\n",
        "         '김치 된장 비빔밥',\n",
        "         '비빔밥 김치',\n",
        "         '사과 볶음밥 김치 된장']"
      ]
    },
    {
      "cell_type": "code",
      "source": [
        "from gensim import corpora\n",
        "from gensim.models import LdaModel, TfidfModel\n",
        "\n",
        "# 분석할 문서를 공백으로 토큰화\n",
        "tokenized_docs = []\n",
        "for doc in docs:\n",
        "  tokenized_docs.append(doc.split(' '))\n",
        "tokenized_docs"
      ],
      "metadata": {
        "colab": {
          "base_uri": "https://localhost:8080/"
        },
        "id": "h7YhSmHVr3L4",
        "outputId": "831913fa-0065-45c3-baa6-405bca0048de"
      },
      "execution_count": 3,
      "outputs": [
        {
          "output_type": "execute_result",
          "data": {
            "text/plain": [
              "[['바나나', '사과', '포도', '포도'],\n",
              " ['사과', '포도'],\n",
              " ['포도', '바나나'],\n",
              " ['짜장면', '짬뽕', '탕수육'],\n",
              " ['볶음밥', '탕수육'],\n",
              " ['짜장면', '짬뽕'],\n",
              " ['된장찌개', '김치찌개', '김치', '비빔밥'],\n",
              " ['김치', '된장', '비빔밥'],\n",
              " ['비빔밥', '김치'],\n",
              " ['사과', '볶음밥', '김치', '된장']]"
            ]
          },
          "metadata": {},
          "execution_count": 3
        }
      ]
    },
    {
      "cell_type": "code",
      "source": [
        "id2word = corpora.Dictionary(tokenized_docs)\n",
        "print(id2word)"
      ],
      "metadata": {
        "id": "bKNU1vlxs4Si",
        "colab": {
          "base_uri": "https://localhost:8080/"
        },
        "outputId": "e593cce1-6ad0-4f54-ab12-a38b052fdfd8"
      },
      "execution_count": 4,
      "outputs": [
        {
          "output_type": "stream",
          "name": "stdout",
          "text": [
            "Dictionary<12 unique tokens: ['바나나', '사과', '포도', '짜장면', '짬뽕']...>\n"
          ]
        }
      ]
    },
    {
      "cell_type": "code",
      "source": [
        "id2word"
      ],
      "metadata": {
        "id": "QKhqDP30s3X6",
        "colab": {
          "base_uri": "https://localhost:8080/"
        },
        "outputId": "e7c67ff2-9ced-47cb-839e-3bad6bede6a2"
      },
      "execution_count": 5,
      "outputs": [
        {
          "output_type": "execute_result",
          "data": {
            "text/plain": [
              "<gensim.corpora.dictionary.Dictionary at 0x7ae813216590>"
            ]
          },
          "metadata": {},
          "execution_count": 5
        }
      ]
    },
    {
      "cell_type": "code",
      "source": [
        "for value in id2word:\n",
        "  print(value, id2word[value])"
      ],
      "metadata": {
        "id": "hdLiUSHcsINF",
        "colab": {
          "base_uri": "https://localhost:8080/"
        },
        "outputId": "bb307820-4be7-4773-f27d-1f6feb543e5f"
      },
      "execution_count": 6,
      "outputs": [
        {
          "output_type": "stream",
          "name": "stdout",
          "text": [
            "0 바나나\n",
            "1 사과\n",
            "2 포도\n",
            "3 짜장면\n",
            "4 짬뽕\n",
            "5 탕수육\n",
            "6 볶음밥\n",
            "7 김치\n",
            "8 김치찌개\n",
            "9 된장찌개\n",
            "10 비빔밥\n",
            "11 된장\n"
          ]
        }
      ]
    },
    {
      "cell_type": "code",
      "source": [
        "# corpus_TDM = [id2word.doc2bow(doc) for doc in tokenized_docs]\n",
        "corpus_TDM = []\n",
        "for doc in tokenized_docs:\n",
        "  # print(doc)\n",
        "  result = id2word.doc2bow(doc)\n",
        "  # print(result) ## index, 등장 횟수(순서는 index순으로 sorting 해서 출력됨)\n",
        "  # print('\\n')\n",
        "  corpus_TDM.append(result)\n",
        "\n",
        "corpus_TDM"
      ],
      "metadata": {
        "id": "nJ2dNiJGtDDi",
        "colab": {
          "base_uri": "https://localhost:8080/"
        },
        "outputId": "1b466292-d5b3-49d7-e6a3-db12ea165577"
      },
      "execution_count": 7,
      "outputs": [
        {
          "output_type": "execute_result",
          "data": {
            "text/plain": [
              "[[(0, 1), (1, 1), (2, 2)],\n",
              " [(1, 1), (2, 1)],\n",
              " [(0, 1), (2, 1)],\n",
              " [(3, 1), (4, 1), (5, 1)],\n",
              " [(5, 1), (6, 1)],\n",
              " [(3, 1), (4, 1)],\n",
              " [(7, 1), (8, 1), (9, 1), (10, 1)],\n",
              " [(7, 1), (10, 1), (11, 1)],\n",
              " [(7, 1), (10, 1)],\n",
              " [(1, 1), (6, 1), (7, 1), (11, 1)]]"
            ]
          },
          "metadata": {},
          "execution_count": 7
        }
      ]
    },
    {
      "cell_type": "code",
      "source": [
        "tfidf = TfidfModel(corpus_TDM)\n",
        "corpus_TFIDF = tfidf[corpus_TDM]\n",
        "\n",
        "n = 3   # 토픽 개수 - 변경 가능\n",
        "lda = LdaModel(corpus = corpus_TFIDF,\n",
        "               id2word = id2word,\n",
        "               num_topics = n,\n",
        "               random_state = 100)\n",
        "\n",
        "for t in lda.print_topics():\n",
        "  print(t[0], \":\", t[1])"
      ],
      "metadata": {
        "id": "yPLR3m-pvHNI",
        "colab": {
          "base_uri": "https://localhost:8080/"
        },
        "outputId": "f46861f2-78a8-4ae8-b8c9-62cc549e3bf3"
      },
      "execution_count": 8,
      "outputs": [
        {
          "output_type": "stream",
          "name": "stderr",
          "text": [
            "WARNING:gensim.models.ldamodel:too few updates, training might not converge; consider increasing the number of passes or iterations to improve accuracy\n"
          ]
        },
        {
          "output_type": "stream",
          "name": "stdout",
          "text": [
            "0 : 0.158*\"탕수육\" + 0.105*\"볶음밥\" + 0.100*\"된장찌개\" + 0.100*\"짬뽕\" + 0.099*\"김치찌개\" + 0.097*\"짜장면\" + 0.078*\"비빔밥\" + 0.071*\"김치\" + 0.056*\"포도\" + 0.049*\"사과\"\n",
            "1 : 0.241*\"포도\" + 0.170*\"바나나\" + 0.158*\"사과\" + 0.053*\"김치\" + 0.051*\"볶음밥\" + 0.050*\"된장\" + 0.049*\"짬뽕\" + 0.048*\"비빔밥\" + 0.048*\"짜장면\" + 0.048*\"탕수육\"\n",
            "2 : 0.154*\"비빔밥\" + 0.150*\"김치\" + 0.148*\"된장\" + 0.097*\"짜장면\" + 0.094*\"짬뽕\" + 0.089*\"볶음밥\" + 0.068*\"사과\" + 0.043*\"포도\" + 0.042*\"바나나\" + 0.042*\"탕수육\"\n"
          ]
        }
      ]
    }
  ]
}
