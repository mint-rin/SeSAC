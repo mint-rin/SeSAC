{
  "nbformat": 4,
  "nbformat_minor": 0,
  "metadata": {
    "colab": {
      "provenance": [],
      "toc_visible": true,
      "authorship_tag": "ABX9TyOzhLAmJkVMO48zaw41DKsg",
      "include_colab_link": true
    },
    "kernelspec": {
      "name": "python3",
      "display_name": "Python 3"
    },
    "language_info": {
      "name": "python"
    }
  },
  "cells": [
    {
      "cell_type": "markdown",
      "metadata": {
        "id": "view-in-github",
        "colab_type": "text"
      },
      "source": [
        "<a href=\"https://colab.research.google.com/github/mint-rin/SeSAC/blob/main/word_representation_3_TF_IDF.ipynb\" target=\"_parent\"><img src=\"https://colab.research.google.com/assets/colab-badge.svg\" alt=\"Open In Colab\"/></a>"
      ]
    },
    {
      "cell_type": "markdown",
      "source": [
        "# TF-IDF 직접 구현"
      ],
      "metadata": {
        "id": "-qxtwxQTufbL"
      }
    },
    {
      "cell_type": "code",
      "source": [
        "# docs = documents\n",
        "docs = ['오늘 동물원에서 원숭이와 코끼리를 봤어',\n",
        "        '동물원에서 원숭이에게 바나나를 줬어 바나나를']"
      ],
      "metadata": {
        "id": "O0h_iry-TMAk"
      },
      "execution_count": null,
      "outputs": []
    },
    {
      "cell_type": "markdown",
      "source": [
        "## 토큰화\n",
        "- 각 토큰(단어)을 그대로 사용할 수 없기 때문에 토큰에 index 부여\n",
        "- 공백으로 토큰화 진행\n",
        "\n",
        "\n"
      ],
      "metadata": {
        "id": "WQizOfKJTTU0"
      }
    },
    {
      "cell_type": "code",
      "source": [
        "# 빈 리스트 생성\n",
        "doc_ls = []\n",
        "\n",
        "# 공백으로 나눠서 리스트 안에 넣기\n",
        "for doc in docs:\n",
        "  doc_ls.append(doc.split())\n",
        "doc_ls"
      ],
      "metadata": {
        "id": "ESu8kAkiTVxi",
        "colab": {
          "base_uri": "https://localhost:8080/"
        },
        "outputId": "4a833d38-081c-4a71-f325-91f54ed8045f"
      },
      "execution_count": null,
      "outputs": [
        {
          "output_type": "execute_result",
          "data": {
            "text/plain": [
              "[['오늘', '동물원에서', '원숭이와', '코끼리를', '봤어'],\n",
              " ['동물원에서', '원숭이에게', '바나나를', '줬어', '바나나를']]"
            ]
          },
          "metadata": {},
          "execution_count": 3
        }
      ]
    },
    {
      "cell_type": "markdown",
      "source": [
        "## 유니크한 토큰 사전 구하기"
      ],
      "metadata": {
        "id": "2byHUat1SwzE"
      }
    },
    {
      "cell_type": "markdown",
      "source": [
        "### 2-1. 빈 딕셔너리 생성"
      ],
      "metadata": {
        "id": "qkk_L-_2S3zX"
      }
    },
    {
      "cell_type": "code",
      "source": [
        "from collections import defaultdict\n",
        "\n",
        "word2id = defaultdict(lambda : len(word2id))\n",
        "word2id"
      ],
      "metadata": {
        "colab": {
          "base_uri": "https://localhost:8080/"
        },
        "id": "qy1fFGASS565",
        "outputId": "f85e0114-c041-423b-80c7-592f97193a89"
      },
      "execution_count": null,
      "outputs": [
        {
          "output_type": "execute_result",
          "data": {
            "text/plain": [
              "defaultdict(<function __main__.<lambda>()>, {})"
            ]
          },
          "metadata": {},
          "execution_count": 4
        }
      ]
    },
    {
      "cell_type": "markdown",
      "source": [
        "### 2-2. 위에서 생성한 빈 딕셔너리에 유니크한 토큰 넣기"
      ],
      "metadata": {
        "id": "d6tYxZ1STBxB"
      }
    },
    {
      "cell_type": "code",
      "source": [
        "for doc in doc_ls:\n",
        "  for token in doc:\n",
        "    word2id[token]\n",
        "    print(token)\n",
        "    print('\\t', word2id)\n",
        "\n",
        "word2id"
      ],
      "metadata": {
        "colab": {
          "base_uri": "https://localhost:8080/"
        },
        "id": "RhwoDfQhTKWZ",
        "outputId": "e1218185-8431-46d9-ea9a-57285cc957d0"
      },
      "execution_count": null,
      "outputs": [
        {
          "output_type": "stream",
          "name": "stdout",
          "text": [
            "오늘\n",
            "\t defaultdict(<function <lambda> at 0x7b59bf74d240>, {'오늘': 0})\n",
            "동물원에서\n",
            "\t defaultdict(<function <lambda> at 0x7b59bf74d240>, {'오늘': 0, '동물원에서': 1})\n",
            "원숭이와\n",
            "\t defaultdict(<function <lambda> at 0x7b59bf74d240>, {'오늘': 0, '동물원에서': 1, '원숭이와': 2})\n",
            "코끼리를\n",
            "\t defaultdict(<function <lambda> at 0x7b59bf74d240>, {'오늘': 0, '동물원에서': 1, '원숭이와': 2, '코끼리를': 3})\n",
            "봤어\n",
            "\t defaultdict(<function <lambda> at 0x7b59bf74d240>, {'오늘': 0, '동물원에서': 1, '원숭이와': 2, '코끼리를': 3, '봤어': 4})\n",
            "동물원에서\n",
            "\t defaultdict(<function <lambda> at 0x7b59bf74d240>, {'오늘': 0, '동물원에서': 1, '원숭이와': 2, '코끼리를': 3, '봤어': 4})\n",
            "원숭이에게\n",
            "\t defaultdict(<function <lambda> at 0x7b59bf74d240>, {'오늘': 0, '동물원에서': 1, '원숭이와': 2, '코끼리를': 3, '봤어': 4, '원숭이에게': 5})\n",
            "바나나를\n",
            "\t defaultdict(<function <lambda> at 0x7b59bf74d240>, {'오늘': 0, '동물원에서': 1, '원숭이와': 2, '코끼리를': 3, '봤어': 4, '원숭이에게': 5, '바나나를': 6})\n",
            "줬어\n",
            "\t defaultdict(<function <lambda> at 0x7b59bf74d240>, {'오늘': 0, '동물원에서': 1, '원숭이와': 2, '코끼리를': 3, '봤어': 4, '원숭이에게': 5, '바나나를': 6, '줬어': 7})\n",
            "바나나를\n",
            "\t defaultdict(<function <lambda> at 0x7b59bf74d240>, {'오늘': 0, '동물원에서': 1, '원숭이와': 2, '코끼리를': 3, '봤어': 4, '원숭이에게': 5, '바나나를': 6, '줬어': 7})\n"
          ]
        },
        {
          "output_type": "execute_result",
          "data": {
            "text/plain": [
              "defaultdict(<function __main__.<lambda>()>,\n",
              "            {'오늘': 0,\n",
              "             '동물원에서': 1,\n",
              "             '원숭이와': 2,\n",
              "             '코끼리를': 3,\n",
              "             '봤어': 4,\n",
              "             '원숭이에게': 5,\n",
              "             '바나나를': 6,\n",
              "             '줬어': 7})"
            ]
          },
          "metadata": {},
          "execution_count": 5
        }
      ]
    },
    {
      "cell_type": "markdown",
      "source": [
        "## TF 계산\n",
        "TF = (특정 단어 등장 빈도)/(문서 내 전체 등장 단어 빈도)"
      ],
      "metadata": {
        "id": "DSilCUbxTQtM"
      }
    },
    {
      "cell_type": "code",
      "source": [
        "import numpy as np\n",
        "\n",
        "TDM = np.zeros((len(word2id), len(doc_ls)), dtype=int)\n",
        "\n",
        "for i, doc in enumerate(doc_ls):\n",
        "  print(doc)\n",
        "  for token in doc:\n",
        "    TDM[word2id[token], i] += 1   # 해당 토큰의 위치(column)\n",
        "    print(token)\n",
        "    print(TDM)\n",
        "    print('\\t')"
      ],
      "metadata": {
        "id": "RbcganSQuy4v",
        "colab": {
          "base_uri": "https://localhost:8080/"
        },
        "outputId": "2bee6139-1ea8-4247-abec-fec1cd38293b"
      },
      "execution_count": null,
      "outputs": [
        {
          "output_type": "stream",
          "name": "stdout",
          "text": [
            "['오늘', '동물원에서', '원숭이와', '코끼리를', '봤어']\n",
            "오늘\n",
            "[[1 0]\n",
            " [0 0]\n",
            " [0 0]\n",
            " [0 0]\n",
            " [0 0]\n",
            " [0 0]\n",
            " [0 0]\n",
            " [0 0]]\n",
            "\t\n",
            "동물원에서\n",
            "[[1 0]\n",
            " [1 0]\n",
            " [0 0]\n",
            " [0 0]\n",
            " [0 0]\n",
            " [0 0]\n",
            " [0 0]\n",
            " [0 0]]\n",
            "\t\n",
            "원숭이와\n",
            "[[1 0]\n",
            " [1 0]\n",
            " [1 0]\n",
            " [0 0]\n",
            " [0 0]\n",
            " [0 0]\n",
            " [0 0]\n",
            " [0 0]]\n",
            "\t\n",
            "코끼리를\n",
            "[[1 0]\n",
            " [1 0]\n",
            " [1 0]\n",
            " [1 0]\n",
            " [0 0]\n",
            " [0 0]\n",
            " [0 0]\n",
            " [0 0]]\n",
            "\t\n",
            "봤어\n",
            "[[1 0]\n",
            " [1 0]\n",
            " [1 0]\n",
            " [1 0]\n",
            " [1 0]\n",
            " [0 0]\n",
            " [0 0]\n",
            " [0 0]]\n",
            "\t\n",
            "['동물원에서', '원숭이에게', '바나나를', '줬어', '바나나를']\n",
            "동물원에서\n",
            "[[1 0]\n",
            " [1 1]\n",
            " [1 0]\n",
            " [1 0]\n",
            " [1 0]\n",
            " [0 0]\n",
            " [0 0]\n",
            " [0 0]]\n",
            "\t\n",
            "원숭이에게\n",
            "[[1 0]\n",
            " [1 1]\n",
            " [1 0]\n",
            " [1 0]\n",
            " [1 0]\n",
            " [0 1]\n",
            " [0 0]\n",
            " [0 0]]\n",
            "\t\n",
            "바나나를\n",
            "[[1 0]\n",
            " [1 1]\n",
            " [1 0]\n",
            " [1 0]\n",
            " [1 0]\n",
            " [0 1]\n",
            " [0 1]\n",
            " [0 0]]\n",
            "\t\n",
            "줬어\n",
            "[[1 0]\n",
            " [1 1]\n",
            " [1 0]\n",
            " [1 0]\n",
            " [1 0]\n",
            " [0 1]\n",
            " [0 1]\n",
            " [0 1]]\n",
            "\t\n",
            "바나나를\n",
            "[[1 0]\n",
            " [1 1]\n",
            " [1 0]\n",
            " [1 0]\n",
            " [1 0]\n",
            " [0 1]\n",
            " [0 2]\n",
            " [0 1]]\n",
            "\t\n"
          ]
        }
      ]
    },
    {
      "cell_type": "code",
      "source": [
        "# TF = (특정 단어 등장 빈도) / (문서 내 전체 등장 단어 빈도)\n",
        "def computeTF(TDM):\n",
        "  doc_len = len(docs)   # 문서 개수 2개\n",
        "  word_len = len(word2id)\n",
        "  print('문서 수 : ', doc_len)\n",
        "  print('전체 단어 수 : ', word_len)\n",
        "\n",
        "  tf = np.zeros((word_len, doc_len))\n",
        "  print(tf)\n",
        "\n",
        "  for doc_i in range(len(doc_ls)):\n",
        "    print(docs[doc_i])\n",
        "    for word_i in range(len(word2id)):\n",
        "      tf[word_i, doc_i] = TDM[word_i, doc_i]/TDM[:, doc_i].sum()\n",
        "    print(tf)\n",
        "  return tf"
      ],
      "metadata": {
        "id": "rePmueASvDzH"
      },
      "execution_count": null,
      "outputs": []
    },
    {
      "cell_type": "code",
      "source": [
        "tf = computeTF(TDM)"
      ],
      "metadata": {
        "colab": {
          "base_uri": "https://localhost:8080/"
        },
        "id": "V5sbRx9Kl2PT",
        "outputId": "e04a49ca-c8ca-47b8-a880-aea2b5d7000b"
      },
      "execution_count": null,
      "outputs": [
        {
          "output_type": "stream",
          "name": "stdout",
          "text": [
            "문서 수 :  2\n",
            "전체 단어 수 :  8\n",
            "[[0. 0.]\n",
            " [0. 0.]\n",
            " [0. 0.]\n",
            " [0. 0.]\n",
            " [0. 0.]\n",
            " [0. 0.]\n",
            " [0. 0.]\n",
            " [0. 0.]]\n",
            "오늘 동물원에서 원숭이와 코끼리를 봤어\n",
            "[[0.2 0. ]\n",
            " [0.2 0. ]\n",
            " [0.2 0. ]\n",
            " [0.2 0. ]\n",
            " [0.2 0. ]\n",
            " [0.  0. ]\n",
            " [0.  0. ]\n",
            " [0.  0. ]]\n",
            "동물원에서 원숭이에게 바나나를 줬어 바나나를\n",
            "[[0.2 0. ]\n",
            " [0.2 0.2]\n",
            " [0.2 0. ]\n",
            " [0.2 0. ]\n",
            " [0.2 0. ]\n",
            " [0.  0.2]\n",
            " [0.  0.4]\n",
            " [0.  0.2]]\n"
          ]
        }
      ]
    },
    {
      "cell_type": "code",
      "source": [
        "tf"
      ],
      "metadata": {
        "colab": {
          "base_uri": "https://localhost:8080/"
        },
        "id": "sL7VW3Wbl72P",
        "outputId": "bad249b0-f624-4992-a84d-abdc226f9081"
      },
      "execution_count": null,
      "outputs": [
        {
          "output_type": "execute_result",
          "data": {
            "text/plain": [
              "array([[0.2, 0. ],\n",
              "       [0.2, 0.2],\n",
              "       [0.2, 0. ],\n",
              "       [0.2, 0. ],\n",
              "       [0.2, 0. ],\n",
              "       [0. , 0.2],\n",
              "       [0. , 0.4],\n",
              "       [0. , 0.2]])"
            ]
          },
          "metadata": {},
          "execution_count": 9
        }
      ]
    },
    {
      "cell_type": "markdown",
      "source": [
        "## IDF 계산하기\n",
        "IDF = -log(단어가 등장한 문서 수/총 문서 수)"
      ],
      "metadata": {
        "id": "UcMm_jn6l9uP"
      }
    },
    {
      "cell_type": "code",
      "source": [
        "import math\n",
        "\n",
        "# IDF 계산 = -log(단어가 등장한 문서 수 / 총 문서 수)\n",
        "def computeIDF(TDM):\n",
        "  doc_len = len(docs)   # 문서 개수 2개\n",
        "  word_len = len(word2id)\n",
        "  print('문서 수 : ', doc_len)\n",
        "  print('전체 단어 수 : ', word_len)\n",
        "\n",
        "  idf = np.zeros(word_len)\n",
        "  print(idf)\n",
        "\n",
        "  for doc_i in range(len(doc_ls)):\n",
        "    for word_i in range(len(word2id)):\n",
        "      idf[word_i] = -math.log10(np.count_nonzero(TDM[word_i,:])/doc_len)\n",
        "    print(idf)\n",
        "    return idf"
      ],
      "metadata": {
        "id": "hpqS6hdJmDkO"
      },
      "execution_count": null,
      "outputs": []
    },
    {
      "cell_type": "code",
      "source": [
        "idf = computeIDF(TDM)\n",
        "idf"
      ],
      "metadata": {
        "colab": {
          "base_uri": "https://localhost:8080/"
        },
        "id": "CSPjASYrmr3Y",
        "outputId": "f8064c03-c1cf-4257-df4d-9faeaebef341"
      },
      "execution_count": null,
      "outputs": [
        {
          "output_type": "stream",
          "name": "stdout",
          "text": [
            "문서 수 :  2\n",
            "전체 단어 수 :  8\n",
            "[0. 0. 0. 0. 0. 0. 0. 0.]\n",
            "[ 0.30103 -0.       0.30103  0.30103  0.30103  0.30103  0.30103  0.30103]\n"
          ]
        },
        {
          "output_type": "execute_result",
          "data": {
            "text/plain": [
              "array([ 0.30103, -0.     ,  0.30103,  0.30103,  0.30103,  0.30103,\n",
              "        0.30103,  0.30103])"
            ]
          },
          "metadata": {},
          "execution_count": 11
        }
      ]
    },
    {
      "cell_type": "markdown",
      "source": [
        "## TF-IDF 계산하기"
      ],
      "metadata": {
        "id": "cSQd1KMLmwYH"
      }
    },
    {
      "cell_type": "code",
      "source": [
        "# TF-IDF 곱\n",
        "def computeTFIDF(TDM):\n",
        "  tf = computeTF(TDM)\n",
        "  idf = computeIDF(TDM).T\n",
        "  tfidf = np.zeros(tf.shape)\n",
        "\n",
        "  for doc_i in range(len(doc_ls)):\n",
        "    print(docs[doc_i])\n",
        "    for word_i in range(len(word2id)):\n",
        "      tfidf[word_i, doc_i] = tf[word_i, doc_i] * idf[word_i]\n",
        "\n",
        "  print('TF-IDF 최종')\n",
        "  print(tfidf)\n",
        "  return tfidf"
      ],
      "metadata": {
        "id": "F9V5RwfJm0Bl"
      },
      "execution_count": null,
      "outputs": []
    },
    {
      "cell_type": "code",
      "source": [
        "tfidf = computeTFIDF(TDM)"
      ],
      "metadata": {
        "colab": {
          "base_uri": "https://localhost:8080/"
        },
        "id": "ic04_hqvnU0L",
        "outputId": "86199911-6049-482e-beaa-2b7ab699a694"
      },
      "execution_count": null,
      "outputs": [
        {
          "output_type": "stream",
          "name": "stdout",
          "text": [
            "문서 수 :  2\n",
            "전체 단어 수 :  8\n",
            "[[0. 0.]\n",
            " [0. 0.]\n",
            " [0. 0.]\n",
            " [0. 0.]\n",
            " [0. 0.]\n",
            " [0. 0.]\n",
            " [0. 0.]\n",
            " [0. 0.]]\n",
            "오늘 동물원에서 원숭이와 코끼리를 봤어\n",
            "[[0.2 0. ]\n",
            " [0.2 0. ]\n",
            " [0.2 0. ]\n",
            " [0.2 0. ]\n",
            " [0.2 0. ]\n",
            " [0.  0. ]\n",
            " [0.  0. ]\n",
            " [0.  0. ]]\n",
            "동물원에서 원숭이에게 바나나를 줬어 바나나를\n",
            "[[0.2 0. ]\n",
            " [0.2 0.2]\n",
            " [0.2 0. ]\n",
            " [0.2 0. ]\n",
            " [0.2 0. ]\n",
            " [0.  0.2]\n",
            " [0.  0.4]\n",
            " [0.  0.2]]\n",
            "문서 수 :  2\n",
            "전체 단어 수 :  8\n",
            "[0. 0. 0. 0. 0. 0. 0. 0.]\n",
            "[ 0.30103 -0.       0.30103  0.30103  0.30103  0.30103  0.30103  0.30103]\n",
            "오늘 동물원에서 원숭이와 코끼리를 봤어\n",
            "동물원에서 원숭이에게 바나나를 줬어 바나나를\n",
            "TF-IDF 최종\n",
            "[[ 0.060206  0.      ]\n",
            " [-0.       -0.      ]\n",
            " [ 0.060206  0.      ]\n",
            " [ 0.060206  0.      ]\n",
            " [ 0.060206  0.      ]\n",
            " [ 0.        0.060206]\n",
            " [ 0.        0.120412]\n",
            " [ 0.        0.060206]]\n"
          ]
        }
      ]
    },
    {
      "cell_type": "code",
      "source": [
        "tfidf"
      ],
      "metadata": {
        "colab": {
          "base_uri": "https://localhost:8080/"
        },
        "id": "7Qets7sRnXLk",
        "outputId": "88e73dc5-ae69-43d8-bdc1-5bd91dd753ef"
      },
      "execution_count": null,
      "outputs": [
        {
          "output_type": "execute_result",
          "data": {
            "text/plain": [
              "array([[ 0.060206,  0.      ],\n",
              "       [-0.      , -0.      ],\n",
              "       [ 0.060206,  0.      ],\n",
              "       [ 0.060206,  0.      ],\n",
              "       [ 0.060206,  0.      ],\n",
              "       [ 0.      ,  0.060206],\n",
              "       [ 0.      ,  0.120412],\n",
              "       [ 0.      ,  0.060206]])"
            ]
          },
          "metadata": {},
          "execution_count": 14
        }
      ]
    },
    {
      "cell_type": "markdown",
      "source": [
        "## 시각화로 확인"
      ],
      "metadata": {
        "id": "ZvgkIXQrnYxw"
      }
    },
    {
      "cell_type": "code",
      "source": [
        "import pandas as pd\n",
        "\n",
        "sorted_vocab = sorted((value, key) for key, value in word2id.items())\n",
        "vocab = [v[1] for v in sorted_vocab]\n",
        "print('vocab : ', vocab)\n",
        "tfidf = computeTFIDF(TDM)\n",
        "pd.DataFrame(tfidf.T, columns=vocab)"
      ],
      "metadata": {
        "colab": {
          "base_uri": "https://localhost:8080/",
          "height": 911
        },
        "id": "rsrJJS0LnbxB",
        "outputId": "1d554891-2203-4f7a-98b0-c3071abbbbd0"
      },
      "execution_count": null,
      "outputs": [
        {
          "output_type": "stream",
          "name": "stdout",
          "text": [
            "vocab :  ['오늘', '동물원에서', '원숭이와', '코끼리를', '봤어', '원숭이에게', '바나나를', '줬어']\n",
            "문서 수 :  2\n",
            "전체 단어 수 :  8\n",
            "[[0. 0.]\n",
            " [0. 0.]\n",
            " [0. 0.]\n",
            " [0. 0.]\n",
            " [0. 0.]\n",
            " [0. 0.]\n",
            " [0. 0.]\n",
            " [0. 0.]]\n",
            "오늘 동물원에서 원숭이와 코끼리를 봤어\n",
            "[[0.2 0. ]\n",
            " [0.2 0. ]\n",
            " [0.2 0. ]\n",
            " [0.2 0. ]\n",
            " [0.2 0. ]\n",
            " [0.  0. ]\n",
            " [0.  0. ]\n",
            " [0.  0. ]]\n",
            "동물원에서 원숭이에게 바나나를 줬어 바나나를\n",
            "[[0.2 0. ]\n",
            " [0.2 0.2]\n",
            " [0.2 0. ]\n",
            " [0.2 0. ]\n",
            " [0.2 0. ]\n",
            " [0.  0.2]\n",
            " [0.  0.4]\n",
            " [0.  0.2]]\n",
            "문서 수 :  2\n",
            "전체 단어 수 :  8\n",
            "[0. 0. 0. 0. 0. 0. 0. 0.]\n",
            "[ 0.30103 -0.       0.30103  0.30103  0.30103  0.30103  0.30103  0.30103]\n",
            "오늘 동물원에서 원숭이와 코끼리를 봤어\n",
            "동물원에서 원숭이에게 바나나를 줬어 바나나를\n",
            "TF-IDF 최종\n",
            "[[ 0.060206  0.      ]\n",
            " [-0.       -0.      ]\n",
            " [ 0.060206  0.      ]\n",
            " [ 0.060206  0.      ]\n",
            " [ 0.060206  0.      ]\n",
            " [ 0.        0.060206]\n",
            " [ 0.        0.120412]\n",
            " [ 0.        0.060206]]\n"
          ]
        },
        {
          "output_type": "execute_result",
          "data": {
            "text/plain": [
              "         오늘  동물원에서      원숭이와      코끼리를        봤어     원숭이에게      바나나를        줬어\n",
              "0  0.060206   -0.0  0.060206  0.060206  0.060206  0.000000  0.000000  0.000000\n",
              "1  0.000000   -0.0  0.000000  0.000000  0.000000  0.060206  0.120412  0.060206"
            ],
            "text/html": [
              "\n",
              "  <div id=\"df-da71cbb7-67c1-4dfb-91b0-160dad5a376d\" class=\"colab-df-container\">\n",
              "    <div>\n",
              "<style scoped>\n",
              "    .dataframe tbody tr th:only-of-type {\n",
              "        vertical-align: middle;\n",
              "    }\n",
              "\n",
              "    .dataframe tbody tr th {\n",
              "        vertical-align: top;\n",
              "    }\n",
              "\n",
              "    .dataframe thead th {\n",
              "        text-align: right;\n",
              "    }\n",
              "</style>\n",
              "<table border=\"1\" class=\"dataframe\">\n",
              "  <thead>\n",
              "    <tr style=\"text-align: right;\">\n",
              "      <th></th>\n",
              "      <th>오늘</th>\n",
              "      <th>동물원에서</th>\n",
              "      <th>원숭이와</th>\n",
              "      <th>코끼리를</th>\n",
              "      <th>봤어</th>\n",
              "      <th>원숭이에게</th>\n",
              "      <th>바나나를</th>\n",
              "      <th>줬어</th>\n",
              "    </tr>\n",
              "  </thead>\n",
              "  <tbody>\n",
              "    <tr>\n",
              "      <th>0</th>\n",
              "      <td>0.060206</td>\n",
              "      <td>-0.0</td>\n",
              "      <td>0.060206</td>\n",
              "      <td>0.060206</td>\n",
              "      <td>0.060206</td>\n",
              "      <td>0.000000</td>\n",
              "      <td>0.000000</td>\n",
              "      <td>0.000000</td>\n",
              "    </tr>\n",
              "    <tr>\n",
              "      <th>1</th>\n",
              "      <td>0.000000</td>\n",
              "      <td>-0.0</td>\n",
              "      <td>0.000000</td>\n",
              "      <td>0.000000</td>\n",
              "      <td>0.000000</td>\n",
              "      <td>0.060206</td>\n",
              "      <td>0.120412</td>\n",
              "      <td>0.060206</td>\n",
              "    </tr>\n",
              "  </tbody>\n",
              "</table>\n",
              "</div>\n",
              "    <div class=\"colab-df-buttons\">\n",
              "\n",
              "  <div class=\"colab-df-container\">\n",
              "    <button class=\"colab-df-convert\" onclick=\"convertToInteractive('df-da71cbb7-67c1-4dfb-91b0-160dad5a376d')\"\n",
              "            title=\"Convert this dataframe to an interactive table.\"\n",
              "            style=\"display:none;\">\n",
              "\n",
              "  <svg xmlns=\"http://www.w3.org/2000/svg\" height=\"24px\" viewBox=\"0 -960 960 960\">\n",
              "    <path d=\"M120-120v-720h720v720H120Zm60-500h600v-160H180v160Zm220 220h160v-160H400v160Zm0 220h160v-160H400v160ZM180-400h160v-160H180v160Zm440 0h160v-160H620v160ZM180-180h160v-160H180v160Zm440 0h160v-160H620v160Z\"/>\n",
              "  </svg>\n",
              "    </button>\n",
              "\n",
              "  <style>\n",
              "    .colab-df-container {\n",
              "      display:flex;\n",
              "      gap: 12px;\n",
              "    }\n",
              "\n",
              "    .colab-df-convert {\n",
              "      background-color: #E8F0FE;\n",
              "      border: none;\n",
              "      border-radius: 50%;\n",
              "      cursor: pointer;\n",
              "      display: none;\n",
              "      fill: #1967D2;\n",
              "      height: 32px;\n",
              "      padding: 0 0 0 0;\n",
              "      width: 32px;\n",
              "    }\n",
              "\n",
              "    .colab-df-convert:hover {\n",
              "      background-color: #E2EBFA;\n",
              "      box-shadow: 0px 1px 2px rgba(60, 64, 67, 0.3), 0px 1px 3px 1px rgba(60, 64, 67, 0.15);\n",
              "      fill: #174EA6;\n",
              "    }\n",
              "\n",
              "    .colab-df-buttons div {\n",
              "      margin-bottom: 4px;\n",
              "    }\n",
              "\n",
              "    [theme=dark] .colab-df-convert {\n",
              "      background-color: #3B4455;\n",
              "      fill: #D2E3FC;\n",
              "    }\n",
              "\n",
              "    [theme=dark] .colab-df-convert:hover {\n",
              "      background-color: #434B5C;\n",
              "      box-shadow: 0px 1px 3px 1px rgba(0, 0, 0, 0.15);\n",
              "      filter: drop-shadow(0px 1px 2px rgba(0, 0, 0, 0.3));\n",
              "      fill: #FFFFFF;\n",
              "    }\n",
              "  </style>\n",
              "\n",
              "    <script>\n",
              "      const buttonEl =\n",
              "        document.querySelector('#df-da71cbb7-67c1-4dfb-91b0-160dad5a376d button.colab-df-convert');\n",
              "      buttonEl.style.display =\n",
              "        google.colab.kernel.accessAllowed ? 'block' : 'none';\n",
              "\n",
              "      async function convertToInteractive(key) {\n",
              "        const element = document.querySelector('#df-da71cbb7-67c1-4dfb-91b0-160dad5a376d');\n",
              "        const dataTable =\n",
              "          await google.colab.kernel.invokeFunction('convertToInteractive',\n",
              "                                                    [key], {});\n",
              "        if (!dataTable) return;\n",
              "\n",
              "        const docLinkHtml = 'Like what you see? Visit the ' +\n",
              "          '<a target=\"_blank\" href=https://colab.research.google.com/notebooks/data_table.ipynb>data table notebook</a>'\n",
              "          + ' to learn more about interactive tables.';\n",
              "        element.innerHTML = '';\n",
              "        dataTable['output_type'] = 'display_data';\n",
              "        await google.colab.output.renderOutput(dataTable, element);\n",
              "        const docLink = document.createElement('div');\n",
              "        docLink.innerHTML = docLinkHtml;\n",
              "        element.appendChild(docLink);\n",
              "      }\n",
              "    </script>\n",
              "  </div>\n",
              "\n",
              "\n",
              "<div id=\"df-0abb9253-9df3-4089-9a28-c555036eac24\">\n",
              "  <button class=\"colab-df-quickchart\" onclick=\"quickchart('df-0abb9253-9df3-4089-9a28-c555036eac24')\"\n",
              "            title=\"Suggest charts.\"\n",
              "            style=\"display:none;\">\n",
              "\n",
              "<svg xmlns=\"http://www.w3.org/2000/svg\" height=\"24px\"viewBox=\"0 0 24 24\"\n",
              "     width=\"24px\">\n",
              "    <g>\n",
              "        <path d=\"M19 3H5c-1.1 0-2 .9-2 2v14c0 1.1.9 2 2 2h14c1.1 0 2-.9 2-2V5c0-1.1-.9-2-2-2zM9 17H7v-7h2v7zm4 0h-2V7h2v10zm4 0h-2v-4h2v4z\"/>\n",
              "    </g>\n",
              "</svg>\n",
              "  </button>\n",
              "\n",
              "<style>\n",
              "  .colab-df-quickchart {\n",
              "      --bg-color: #E8F0FE;\n",
              "      --fill-color: #1967D2;\n",
              "      --hover-bg-color: #E2EBFA;\n",
              "      --hover-fill-color: #174EA6;\n",
              "      --disabled-fill-color: #AAA;\n",
              "      --disabled-bg-color: #DDD;\n",
              "  }\n",
              "\n",
              "  [theme=dark] .colab-df-quickchart {\n",
              "      --bg-color: #3B4455;\n",
              "      --fill-color: #D2E3FC;\n",
              "      --hover-bg-color: #434B5C;\n",
              "      --hover-fill-color: #FFFFFF;\n",
              "      --disabled-bg-color: #3B4455;\n",
              "      --disabled-fill-color: #666;\n",
              "  }\n",
              "\n",
              "  .colab-df-quickchart {\n",
              "    background-color: var(--bg-color);\n",
              "    border: none;\n",
              "    border-radius: 50%;\n",
              "    cursor: pointer;\n",
              "    display: none;\n",
              "    fill: var(--fill-color);\n",
              "    height: 32px;\n",
              "    padding: 0;\n",
              "    width: 32px;\n",
              "  }\n",
              "\n",
              "  .colab-df-quickchart:hover {\n",
              "    background-color: var(--hover-bg-color);\n",
              "    box-shadow: 0 1px 2px rgba(60, 64, 67, 0.3), 0 1px 3px 1px rgba(60, 64, 67, 0.15);\n",
              "    fill: var(--button-hover-fill-color);\n",
              "  }\n",
              "\n",
              "  .colab-df-quickchart-complete:disabled,\n",
              "  .colab-df-quickchart-complete:disabled:hover {\n",
              "    background-color: var(--disabled-bg-color);\n",
              "    fill: var(--disabled-fill-color);\n",
              "    box-shadow: none;\n",
              "  }\n",
              "\n",
              "  .colab-df-spinner {\n",
              "    border: 2px solid var(--fill-color);\n",
              "    border-color: transparent;\n",
              "    border-bottom-color: var(--fill-color);\n",
              "    animation:\n",
              "      spin 1s steps(1) infinite;\n",
              "  }\n",
              "\n",
              "  @keyframes spin {\n",
              "    0% {\n",
              "      border-color: transparent;\n",
              "      border-bottom-color: var(--fill-color);\n",
              "      border-left-color: var(--fill-color);\n",
              "    }\n",
              "    20% {\n",
              "      border-color: transparent;\n",
              "      border-left-color: var(--fill-color);\n",
              "      border-top-color: var(--fill-color);\n",
              "    }\n",
              "    30% {\n",
              "      border-color: transparent;\n",
              "      border-left-color: var(--fill-color);\n",
              "      border-top-color: var(--fill-color);\n",
              "      border-right-color: var(--fill-color);\n",
              "    }\n",
              "    40% {\n",
              "      border-color: transparent;\n",
              "      border-right-color: var(--fill-color);\n",
              "      border-top-color: var(--fill-color);\n",
              "    }\n",
              "    60% {\n",
              "      border-color: transparent;\n",
              "      border-right-color: var(--fill-color);\n",
              "    }\n",
              "    80% {\n",
              "      border-color: transparent;\n",
              "      border-right-color: var(--fill-color);\n",
              "      border-bottom-color: var(--fill-color);\n",
              "    }\n",
              "    90% {\n",
              "      border-color: transparent;\n",
              "      border-bottom-color: var(--fill-color);\n",
              "    }\n",
              "  }\n",
              "</style>\n",
              "\n",
              "  <script>\n",
              "    async function quickchart(key) {\n",
              "      const quickchartButtonEl =\n",
              "        document.querySelector('#' + key + ' button');\n",
              "      quickchartButtonEl.disabled = true;  // To prevent multiple clicks.\n",
              "      quickchartButtonEl.classList.add('colab-df-spinner');\n",
              "      try {\n",
              "        const charts = await google.colab.kernel.invokeFunction(\n",
              "            'suggestCharts', [key], {});\n",
              "      } catch (error) {\n",
              "        console.error('Error during call to suggestCharts:', error);\n",
              "      }\n",
              "      quickchartButtonEl.classList.remove('colab-df-spinner');\n",
              "      quickchartButtonEl.classList.add('colab-df-quickchart-complete');\n",
              "    }\n",
              "    (() => {\n",
              "      let quickchartButtonEl =\n",
              "        document.querySelector('#df-0abb9253-9df3-4089-9a28-c555036eac24 button');\n",
              "      quickchartButtonEl.style.display =\n",
              "        google.colab.kernel.accessAllowed ? 'block' : 'none';\n",
              "    })();\n",
              "  </script>\n",
              "</div>\n",
              "    </div>\n",
              "  </div>\n"
            ]
          },
          "metadata": {},
          "execution_count": 15
        }
      ]
    },
    {
      "cell_type": "markdown",
      "source": [
        "# sklearn 라이브러리 사용"
      ],
      "metadata": {
        "id": "WJ2NKACdnua6"
      }
    },
    {
      "cell_type": "code",
      "source": [
        "docs = ['오늘 동물원에서 원숭이와 코끼리를 봤어',\n",
        "        '동물원에서 원숭이에게 바나나를 줬어 바나나를']"
      ],
      "metadata": {
        "id": "zcIT91YVn6kk"
      },
      "execution_count": null,
      "outputs": []
    },
    {
      "cell_type": "code",
      "source": [
        "from sklearn.feature_extraction.text import TfidfVectorizer\n",
        "tfidv = TfidfVectorizer()\n",
        "tfidv = TfidfVectorizer()\n",
        "tfidv = tfidv.fit(docs)\n",
        "tfidv.transform(docs).toarray()\n",
        "vocab = tfidv.get_feature_names_out()"
      ],
      "metadata": {
        "id": "bI1-ftH7n-Gg"
      },
      "execution_count": null,
      "outputs": []
    },
    {
      "cell_type": "code",
      "source": [
        "import pandas as pd\n",
        "df = pd.DataFrame(tfidv.transform(docs).toarray(), columns = vocab)\n",
        "df"
      ],
      "metadata": {
        "colab": {
          "base_uri": "https://localhost:8080/",
          "height": 112
        },
        "id": "YycFMlePoUzL",
        "outputId": "9741c9eb-d08b-49b7-d0c9-bb87cfdc20d8"
      },
      "execution_count": null,
      "outputs": [
        {
          "output_type": "execute_result",
          "data": {
            "text/plain": [
              "      동물원에서      바나나를        봤어        오늘     원숭이에게      원숭이와        줬어  \\\n",
              "0  0.335176  0.000000  0.471078  0.471078  0.000000  0.471078  0.000000   \n",
              "1  0.278943  0.784088  0.000000  0.000000  0.392044  0.000000  0.392044   \n",
              "\n",
              "       코끼리를  \n",
              "0  0.471078  \n",
              "1  0.000000  "
            ],
            "text/html": [
              "\n",
              "  <div id=\"df-0bf3800d-b804-4630-87c6-f7834757a736\" class=\"colab-df-container\">\n",
              "    <div>\n",
              "<style scoped>\n",
              "    .dataframe tbody tr th:only-of-type {\n",
              "        vertical-align: middle;\n",
              "    }\n",
              "\n",
              "    .dataframe tbody tr th {\n",
              "        vertical-align: top;\n",
              "    }\n",
              "\n",
              "    .dataframe thead th {\n",
              "        text-align: right;\n",
              "    }\n",
              "</style>\n",
              "<table border=\"1\" class=\"dataframe\">\n",
              "  <thead>\n",
              "    <tr style=\"text-align: right;\">\n",
              "      <th></th>\n",
              "      <th>동물원에서</th>\n",
              "      <th>바나나를</th>\n",
              "      <th>봤어</th>\n",
              "      <th>오늘</th>\n",
              "      <th>원숭이에게</th>\n",
              "      <th>원숭이와</th>\n",
              "      <th>줬어</th>\n",
              "      <th>코끼리를</th>\n",
              "    </tr>\n",
              "  </thead>\n",
              "  <tbody>\n",
              "    <tr>\n",
              "      <th>0</th>\n",
              "      <td>0.335176</td>\n",
              "      <td>0.000000</td>\n",
              "      <td>0.471078</td>\n",
              "      <td>0.471078</td>\n",
              "      <td>0.000000</td>\n",
              "      <td>0.471078</td>\n",
              "      <td>0.000000</td>\n",
              "      <td>0.471078</td>\n",
              "    </tr>\n",
              "    <tr>\n",
              "      <th>1</th>\n",
              "      <td>0.278943</td>\n",
              "      <td>0.784088</td>\n",
              "      <td>0.000000</td>\n",
              "      <td>0.000000</td>\n",
              "      <td>0.392044</td>\n",
              "      <td>0.000000</td>\n",
              "      <td>0.392044</td>\n",
              "      <td>0.000000</td>\n",
              "    </tr>\n",
              "  </tbody>\n",
              "</table>\n",
              "</div>\n",
              "    <div class=\"colab-df-buttons\">\n",
              "\n",
              "  <div class=\"colab-df-container\">\n",
              "    <button class=\"colab-df-convert\" onclick=\"convertToInteractive('df-0bf3800d-b804-4630-87c6-f7834757a736')\"\n",
              "            title=\"Convert this dataframe to an interactive table.\"\n",
              "            style=\"display:none;\">\n",
              "\n",
              "  <svg xmlns=\"http://www.w3.org/2000/svg\" height=\"24px\" viewBox=\"0 -960 960 960\">\n",
              "    <path d=\"M120-120v-720h720v720H120Zm60-500h600v-160H180v160Zm220 220h160v-160H400v160Zm0 220h160v-160H400v160ZM180-400h160v-160H180v160Zm440 0h160v-160H620v160ZM180-180h160v-160H180v160Zm440 0h160v-160H620v160Z\"/>\n",
              "  </svg>\n",
              "    </button>\n",
              "\n",
              "  <style>\n",
              "    .colab-df-container {\n",
              "      display:flex;\n",
              "      gap: 12px;\n",
              "    }\n",
              "\n",
              "    .colab-df-convert {\n",
              "      background-color: #E8F0FE;\n",
              "      border: none;\n",
              "      border-radius: 50%;\n",
              "      cursor: pointer;\n",
              "      display: none;\n",
              "      fill: #1967D2;\n",
              "      height: 32px;\n",
              "      padding: 0 0 0 0;\n",
              "      width: 32px;\n",
              "    }\n",
              "\n",
              "    .colab-df-convert:hover {\n",
              "      background-color: #E2EBFA;\n",
              "      box-shadow: 0px 1px 2px rgba(60, 64, 67, 0.3), 0px 1px 3px 1px rgba(60, 64, 67, 0.15);\n",
              "      fill: #174EA6;\n",
              "    }\n",
              "\n",
              "    .colab-df-buttons div {\n",
              "      margin-bottom: 4px;\n",
              "    }\n",
              "\n",
              "    [theme=dark] .colab-df-convert {\n",
              "      background-color: #3B4455;\n",
              "      fill: #D2E3FC;\n",
              "    }\n",
              "\n",
              "    [theme=dark] .colab-df-convert:hover {\n",
              "      background-color: #434B5C;\n",
              "      box-shadow: 0px 1px 3px 1px rgba(0, 0, 0, 0.15);\n",
              "      filter: drop-shadow(0px 1px 2px rgba(0, 0, 0, 0.3));\n",
              "      fill: #FFFFFF;\n",
              "    }\n",
              "  </style>\n",
              "\n",
              "    <script>\n",
              "      const buttonEl =\n",
              "        document.querySelector('#df-0bf3800d-b804-4630-87c6-f7834757a736 button.colab-df-convert');\n",
              "      buttonEl.style.display =\n",
              "        google.colab.kernel.accessAllowed ? 'block' : 'none';\n",
              "\n",
              "      async function convertToInteractive(key) {\n",
              "        const element = document.querySelector('#df-0bf3800d-b804-4630-87c6-f7834757a736');\n",
              "        const dataTable =\n",
              "          await google.colab.kernel.invokeFunction('convertToInteractive',\n",
              "                                                    [key], {});\n",
              "        if (!dataTable) return;\n",
              "\n",
              "        const docLinkHtml = 'Like what you see? Visit the ' +\n",
              "          '<a target=\"_blank\" href=https://colab.research.google.com/notebooks/data_table.ipynb>data table notebook</a>'\n",
              "          + ' to learn more about interactive tables.';\n",
              "        element.innerHTML = '';\n",
              "        dataTable['output_type'] = 'display_data';\n",
              "        await google.colab.output.renderOutput(dataTable, element);\n",
              "        const docLink = document.createElement('div');\n",
              "        docLink.innerHTML = docLinkHtml;\n",
              "        element.appendChild(docLink);\n",
              "      }\n",
              "    </script>\n",
              "  </div>\n",
              "\n",
              "\n",
              "<div id=\"df-5227d595-5bf9-4e42-b595-65aa5480ec51\">\n",
              "  <button class=\"colab-df-quickchart\" onclick=\"quickchart('df-5227d595-5bf9-4e42-b595-65aa5480ec51')\"\n",
              "            title=\"Suggest charts.\"\n",
              "            style=\"display:none;\">\n",
              "\n",
              "<svg xmlns=\"http://www.w3.org/2000/svg\" height=\"24px\"viewBox=\"0 0 24 24\"\n",
              "     width=\"24px\">\n",
              "    <g>\n",
              "        <path d=\"M19 3H5c-1.1 0-2 .9-2 2v14c0 1.1.9 2 2 2h14c1.1 0 2-.9 2-2V5c0-1.1-.9-2-2-2zM9 17H7v-7h2v7zm4 0h-2V7h2v10zm4 0h-2v-4h2v4z\"/>\n",
              "    </g>\n",
              "</svg>\n",
              "  </button>\n",
              "\n",
              "<style>\n",
              "  .colab-df-quickchart {\n",
              "      --bg-color: #E8F0FE;\n",
              "      --fill-color: #1967D2;\n",
              "      --hover-bg-color: #E2EBFA;\n",
              "      --hover-fill-color: #174EA6;\n",
              "      --disabled-fill-color: #AAA;\n",
              "      --disabled-bg-color: #DDD;\n",
              "  }\n",
              "\n",
              "  [theme=dark] .colab-df-quickchart {\n",
              "      --bg-color: #3B4455;\n",
              "      --fill-color: #D2E3FC;\n",
              "      --hover-bg-color: #434B5C;\n",
              "      --hover-fill-color: #FFFFFF;\n",
              "      --disabled-bg-color: #3B4455;\n",
              "      --disabled-fill-color: #666;\n",
              "  }\n",
              "\n",
              "  .colab-df-quickchart {\n",
              "    background-color: var(--bg-color);\n",
              "    border: none;\n",
              "    border-radius: 50%;\n",
              "    cursor: pointer;\n",
              "    display: none;\n",
              "    fill: var(--fill-color);\n",
              "    height: 32px;\n",
              "    padding: 0;\n",
              "    width: 32px;\n",
              "  }\n",
              "\n",
              "  .colab-df-quickchart:hover {\n",
              "    background-color: var(--hover-bg-color);\n",
              "    box-shadow: 0 1px 2px rgba(60, 64, 67, 0.3), 0 1px 3px 1px rgba(60, 64, 67, 0.15);\n",
              "    fill: var(--button-hover-fill-color);\n",
              "  }\n",
              "\n",
              "  .colab-df-quickchart-complete:disabled,\n",
              "  .colab-df-quickchart-complete:disabled:hover {\n",
              "    background-color: var(--disabled-bg-color);\n",
              "    fill: var(--disabled-fill-color);\n",
              "    box-shadow: none;\n",
              "  }\n",
              "\n",
              "  .colab-df-spinner {\n",
              "    border: 2px solid var(--fill-color);\n",
              "    border-color: transparent;\n",
              "    border-bottom-color: var(--fill-color);\n",
              "    animation:\n",
              "      spin 1s steps(1) infinite;\n",
              "  }\n",
              "\n",
              "  @keyframes spin {\n",
              "    0% {\n",
              "      border-color: transparent;\n",
              "      border-bottom-color: var(--fill-color);\n",
              "      border-left-color: var(--fill-color);\n",
              "    }\n",
              "    20% {\n",
              "      border-color: transparent;\n",
              "      border-left-color: var(--fill-color);\n",
              "      border-top-color: var(--fill-color);\n",
              "    }\n",
              "    30% {\n",
              "      border-color: transparent;\n",
              "      border-left-color: var(--fill-color);\n",
              "      border-top-color: var(--fill-color);\n",
              "      border-right-color: var(--fill-color);\n",
              "    }\n",
              "    40% {\n",
              "      border-color: transparent;\n",
              "      border-right-color: var(--fill-color);\n",
              "      border-top-color: var(--fill-color);\n",
              "    }\n",
              "    60% {\n",
              "      border-color: transparent;\n",
              "      border-right-color: var(--fill-color);\n",
              "    }\n",
              "    80% {\n",
              "      border-color: transparent;\n",
              "      border-right-color: var(--fill-color);\n",
              "      border-bottom-color: var(--fill-color);\n",
              "    }\n",
              "    90% {\n",
              "      border-color: transparent;\n",
              "      border-bottom-color: var(--fill-color);\n",
              "    }\n",
              "  }\n",
              "</style>\n",
              "\n",
              "  <script>\n",
              "    async function quickchart(key) {\n",
              "      const quickchartButtonEl =\n",
              "        document.querySelector('#' + key + ' button');\n",
              "      quickchartButtonEl.disabled = true;  // To prevent multiple clicks.\n",
              "      quickchartButtonEl.classList.add('colab-df-spinner');\n",
              "      try {\n",
              "        const charts = await google.colab.kernel.invokeFunction(\n",
              "            'suggestCharts', [key], {});\n",
              "      } catch (error) {\n",
              "        console.error('Error during call to suggestCharts:', error);\n",
              "      }\n",
              "      quickchartButtonEl.classList.remove('colab-df-spinner');\n",
              "      quickchartButtonEl.classList.add('colab-df-quickchart-complete');\n",
              "    }\n",
              "    (() => {\n",
              "      let quickchartButtonEl =\n",
              "        document.querySelector('#df-5227d595-5bf9-4e42-b595-65aa5480ec51 button');\n",
              "      quickchartButtonEl.style.display =\n",
              "        google.colab.kernel.accessAllowed ? 'block' : 'none';\n",
              "    })();\n",
              "  </script>\n",
              "</div>\n",
              "    </div>\n",
              "  </div>\n"
            ]
          },
          "metadata": {},
          "execution_count": 18
        }
      ]
    }
  ]
}
