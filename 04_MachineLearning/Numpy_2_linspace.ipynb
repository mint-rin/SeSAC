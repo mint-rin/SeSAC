{
  "nbformat": 4,
  "nbformat_minor": 0,
  "metadata": {
    "colab": {
      "provenance": [],
      "authorship_tag": "ABX9TyP/4rkrIvEhVvgt7Xl5T6eK",
      "include_colab_link": true
    },
    "kernelspec": {
      "name": "python3",
      "display_name": "Python 3"
    },
    "language_info": {
      "name": "python"
    }
  },
  "cells": [
    {
      "cell_type": "markdown",
      "metadata": {
        "id": "view-in-github",
        "colab_type": "text"
      },
      "source": [
        "<a href=\"https://colab.research.google.com/github/mint-rin/SeSAC/blob/main/Numpy_2_linspace.ipynb\" target=\"_parent\"><img src=\"https://colab.research.google.com/assets/colab-badge.svg\" alt=\"Open In Colab\"/></a>"
      ]
    },
    {
      "cell_type": "markdown",
      "source": [
        "1에서 20 사이의 균일한 간격으로 30개의 숫자를 만들고 모든 값에 숫자 10을 더해주세요."
      ],
      "metadata": {
        "id": "5I225Ypp72A6"
      }
    },
    {
      "cell_type": "code",
      "source": [
        "import numpy as np"
      ],
      "metadata": {
        "id": "mZwBi2WJ8Gxl"
      },
      "execution_count": 2,
      "outputs": []
    },
    {
      "cell_type": "code",
      "source": [
        "# linspace: 균일한 간격으로 리스트 크기만큼의 리스트를 생성하는 함수\n",
        "# np.linspace(시작값, 끝값, 벡터 크기, endpoint = False)\n",
        "x = np.linspace(1, 20, 30)"
      ],
      "metadata": {
        "id": "QaDp12Pg7_Sm"
      },
      "execution_count": 3,
      "outputs": []
    },
    {
      "cell_type": "code",
      "source": [
        "x + 10"
      ],
      "metadata": {
        "colab": {
          "base_uri": "https://localhost:8080/"
        },
        "id": "yZlECySk8XUI",
        "outputId": "8d407677-1b7a-4af9-dbd9-4261dba82068"
      },
      "execution_count": 4,
      "outputs": [
        {
          "output_type": "execute_result",
          "data": {
            "text/plain": [
              "array([11.        , 11.65517241, 12.31034483, 12.96551724, 13.62068966,\n",
              "       14.27586207, 14.93103448, 15.5862069 , 16.24137931, 16.89655172,\n",
              "       17.55172414, 18.20689655, 18.86206897, 19.51724138, 20.17241379,\n",
              "       20.82758621, 21.48275862, 22.13793103, 22.79310345, 23.44827586,\n",
              "       24.10344828, 24.75862069, 25.4137931 , 26.06896552, 26.72413793,\n",
              "       27.37931034, 28.03448276, 28.68965517, 29.34482759, 30.        ])"
            ]
          },
          "metadata": {},
          "execution_count": 4
        }
      ]
    }
  ]
}
