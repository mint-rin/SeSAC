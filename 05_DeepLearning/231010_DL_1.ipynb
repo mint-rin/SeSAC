{
  "nbformat": 4,
  "nbformat_minor": 0,
  "metadata": {
    "colab": {
      "provenance": [],
      "toc_visible": true,
      "authorship_tag": "ABX9TyOfAaRTuqlRTZL4XX9fkzdn",
      "include_colab_link": true
    },
    "kernelspec": {
      "name": "python3",
      "display_name": "Python 3"
    },
    "language_info": {
      "name": "python"
    }
  },
  "cells": [
    {
      "cell_type": "markdown",
      "metadata": {
        "id": "view-in-github",
        "colab_type": "text"
      },
      "source": [
        "<a href=\"https://colab.research.google.com/github/mint-rin/SeSAC/blob/main/231010_DL_1.ipynb\" target=\"_parent\"><img src=\"https://colab.research.google.com/assets/colab-badge.svg\" alt=\"Open In Colab\"/></a>"
      ]
    },
    {
      "cell_type": "markdown",
      "source": [
        "x = np.array([2, 4, 6, 8, 10])\n",
        "\n",
        "y = np.array([20, 24, 37, 40, 50])\n",
        "\n",
        "선형회귀모델을 만들고 '5'를 넣었을 때, 값을 예측해보세요."
      ],
      "metadata": {
        "id": "21rNhP6ui9X1"
      }
    },
    {
      "cell_type": "code",
      "source": [
        "import numpy as np\n",
        "import tensorflow as tf\n",
        "from tensorflow.keras.models import Sequential\n",
        "from tensorflow.keras.layers import Dense"
      ],
      "metadata": {
        "id": "eNkccZkTjK24"
      },
      "execution_count": 1,
      "outputs": []
    },
    {
      "cell_type": "code",
      "source": [
        "X = np.array([2, 4, 6, 8, 10])\n",
        "y = np.array([20, 24, 37, 40, 50])"
      ],
      "metadata": {
        "id": "eJkwGqb_jZjz"
      },
      "execution_count": 2,
      "outputs": []
    },
    {
      "cell_type": "code",
      "source": [
        "# 모델 선언\n",
        "model = Sequential()"
      ],
      "metadata": {
        "id": "zCBGBh80llFo"
      },
      "execution_count": 3,
      "outputs": []
    },
    {
      "cell_type": "code",
      "source": [
        "# 층 쌓기\n",
        "model.add(Dense(1, input_dim = 1, activation = 'linear'))   # 선형회귀니까 활성함수 'linear'"
      ],
      "metadata": {
        "id": "cZAx8_N2lqbG"
      },
      "execution_count": 4,
      "outputs": []
    },
    {
      "cell_type": "code",
      "source": [
        "# 컴파일\n",
        "model.compile(optimizer = 'sgd', loss = 'mse', metrics=['acc'])"
      ],
      "metadata": {
        "id": "qbmKmyw3lsXB"
      },
      "execution_count": 5,
      "outputs": []
    },
    {
      "cell_type": "code",
      "source": [
        "# 모델 학습\n",
        "model.fit(X, y, epochs=10)"
      ],
      "metadata": {
        "colab": {
          "base_uri": "https://localhost:8080/"
        },
        "id": "eYYxQQMtluY6",
        "outputId": "c70ed0bd-a99e-40fc-a50e-0970c06928dc"
      },
      "execution_count": 6,
      "outputs": [
        {
          "output_type": "stream",
          "name": "stdout",
          "text": [
            "Epoch 1/10\n",
            "1/1 [==============================] - 1s 530ms/step - loss: 2041.9670 - acc: 0.0000e+00\n",
            "Epoch 2/10\n",
            "1/1 [==============================] - 0s 13ms/step - loss: 45.3530 - acc: 0.0000e+00\n",
            "Epoch 3/10\n",
            "1/1 [==============================] - 0s 11ms/step - loss: 23.7959 - acc: 0.0000e+00\n",
            "Epoch 4/10\n",
            "1/1 [==============================] - 0s 12ms/step - loss: 23.4256 - acc: 0.0000e+00\n",
            "Epoch 5/10\n",
            "1/1 [==============================] - 0s 10ms/step - loss: 23.2836 - acc: 0.0000e+00\n",
            "Epoch 6/10\n",
            "1/1 [==============================] - 0s 10ms/step - loss: 23.1450 - acc: 0.0000e+00\n",
            "Epoch 7/10\n",
            "1/1 [==============================] - 0s 9ms/step - loss: 23.0074 - acc: 0.0000e+00\n",
            "Epoch 8/10\n",
            "1/1 [==============================] - 0s 9ms/step - loss: 22.8708 - acc: 0.0000e+00\n",
            "Epoch 9/10\n",
            "1/1 [==============================] - 0s 9ms/step - loss: 22.7352 - acc: 0.0000e+00\n",
            "Epoch 10/10\n",
            "1/1 [==============================] - 0s 12ms/step - loss: 22.6005 - acc: 0.0000e+00\n"
          ]
        },
        {
          "output_type": "execute_result",
          "data": {
            "text/plain": [
              "<keras.src.callbacks.History at 0x7d13c43404c0>"
            ]
          },
          "metadata": {},
          "execution_count": 6
        }
      ]
    },
    {
      "cell_type": "code",
      "source": [
        "print(model.predict([[5]]))"
      ],
      "metadata": {
        "colab": {
          "base_uri": "https://localhost:8080/"
        },
        "id": "6FMuP6w6lvgG",
        "outputId": "86a349e4-ef24-44e9-9584-de2b612181e4"
      },
      "execution_count": 7,
      "outputs": [
        {
          "output_type": "stream",
          "name": "stdout",
          "text": [
            "1/1 [==============================] - 0s 90ms/step\n",
            "[[27.207708]]\n"
          ]
        }
      ]
    }
  ]
}
