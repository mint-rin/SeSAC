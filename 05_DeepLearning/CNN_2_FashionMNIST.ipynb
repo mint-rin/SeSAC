{
  "nbformat": 4,
  "nbformat_minor": 0,
  "metadata": {
    "colab": {
      "provenance": [],
      "gpuType": "T4",
      "authorship_tag": "ABX9TyP4+H8YqcOrhADz6WD/AorH",
      "include_colab_link": true
    },
    "kernelspec": {
      "name": "python3",
      "display_name": "Python 3"
    },
    "language_info": {
      "name": "python"
    },
    "accelerator": "GPU"
  },
  "cells": [
    {
      "cell_type": "markdown",
      "metadata": {
        "id": "view-in-github",
        "colab_type": "text"
      },
      "source": [
        "<a href=\"https://colab.research.google.com/github/mint-rin/SeSAC/blob/main/CNN_2_FashionMNIST.ipynb\" target=\"_parent\"><img src=\"https://colab.research.google.com/assets/colab-badge.svg\" alt=\"Open In Colab\"/></a>"
      ]
    },
    {
      "cell_type": "code",
      "execution_count": null,
      "metadata": {
        "colab": {
          "base_uri": "https://localhost:8080/"
        },
        "id": "8LKFO9q6n_HH",
        "outputId": "9d007ce6-1a0f-456d-8b60-dddcffa90675"
      },
      "outputs": [
        {
          "output_type": "stream",
          "name": "stdout",
          "text": [
            "Downloading data from https://storage.googleapis.com/tensorflow/tf-keras-datasets/train-labels-idx1-ubyte.gz\n",
            "29515/29515 [==============================] - 0s 0us/step\n",
            "Downloading data from https://storage.googleapis.com/tensorflow/tf-keras-datasets/train-images-idx3-ubyte.gz\n",
            "26421880/26421880 [==============================] - 1s 0us/step\n",
            "Downloading data from https://storage.googleapis.com/tensorflow/tf-keras-datasets/t10k-labels-idx1-ubyte.gz\n",
            "5148/5148 [==============================] - 0s 0us/step\n",
            "Downloading data from https://storage.googleapis.com/tensorflow/tf-keras-datasets/t10k-images-idx3-ubyte.gz\n",
            "4422102/4422102 [==============================] - 1s 0us/step\n"
          ]
        }
      ],
      "source": [
        "import tensorflow as tf\n",
        "fmnist = tf.keras.datasets.fashion_mnist\n",
        "(x_train, y_train),( x_test, y_test) = fmnist.load_data()"
      ]
    },
    {
      "cell_type": "code",
      "source": [
        "# 데이터 형태 확인\n",
        "print(x_train.shape, y_train.shape)\n",
        "print(x_test.shape, y_test.shape)"
      ],
      "metadata": {
        "colab": {
          "base_uri": "https://localhost:8080/"
        },
        "id": "lfV6vq1foOun",
        "outputId": "9f281958-8a26-4a91-a036-1fd32c222337"
      },
      "execution_count": null,
      "outputs": [
        {
          "output_type": "stream",
          "name": "stdout",
          "text": [
            "(60000, 28, 28) (60000,)\n",
            "(10000, 28, 28) (10000,)\n"
          ]
        }
      ]
    },
    {
      "cell_type": "markdown",
      "source": [
        "# 샘플 데이터 확인"
      ],
      "metadata": {
        "id": "166PFEOK2emv"
      }
    },
    {
      "cell_type": "code",
      "source": [
        "import matplotlib.pyplot as plt\n",
        "\n",
        "# 이미지 그릴 영역 설정\n",
        "fig, axes = plt.subplots(2, 5)\n",
        "fig.set_size_inches(10, 5)  # 크기 설정\n",
        "\n",
        "for i in range(10):\n",
        "  axes[i//5, i%5].imshow(x_train[i], cmap='gray')   # imshow: 이미지 데이터 확인\n",
        "  axes[i//5, i%5].set_title(str(y_train[i]))\n",
        "  plt.setp(axes[i//5, i%5].get_xticklabels(), visible=False)\n",
        "  plt.setp(axes[i//5, i%5].get_yticklabels(), visible=False)\n",
        "\n",
        "plt.tight_layout()  # 자동으로 여백 조정\n",
        "plt.show()"
      ],
      "metadata": {
        "colab": {
          "base_uri": "https://localhost:8080/",
          "height": 475
        },
        "id": "9T4qUxXloV9v",
        "outputId": "eb598eb0-b3ef-43fc-9255-86ca8fb6a18d"
      },
      "execution_count": null,
      "outputs": [
        {
          "output_type": "display_data",
          "data": {
            "text/plain": [
              "<Figure size 1000x500 with 10 Axes>"
            ],
            "image/png": "[encoded data removed]"
          },
          "metadata": {}
        }
      ]
    },
    {
      "cell_type": "markdown",
      "source": [
        "# CNN"
      ],
      "metadata": {
        "id": "_uVR3_Ap2ma6"
      }
    },
    {
      "cell_type": "code",
      "source": [
        "x_train = x_train/255.0\n",
        "x_test = x_test/255.0"
      ],
      "metadata": {
        "id": "1JLQtZLxoZeE"
      },
      "execution_count": null,
      "outputs": []
    },
    {
      "cell_type": "code",
      "source": [
        "# data normalization - reshape 필요\n",
        "x_train = x_train.reshape(-1, 28, 28, 1)  # reshape(데이터 개수, 픽셀, 픽셀, 채널)  cf. 채널값: 흑백(1), 컬러(3)\n",
        "x_test = x_test.reshape(-1, 28, 28, 1)"
      ],
      "metadata": {
        "id": "Y53-ydnmogVD"
      },
      "execution_count": null,
      "outputs": []
    },
    {
      "cell_type": "code",
      "source": [
        "from tensorflow.keras import Model, layers\n",
        "from tensorflow.keras.models import Sequential\n",
        "from tensorflow.keras.layers import Conv2D, MaxPool2D, Flatten, Dense, BatchNormalization\n",
        "\n",
        "cnn = Sequential()\n",
        "\n",
        "# Feature Extraction\n",
        "cnn.add(layers.Conv2D(256, 3, strides=1, padding='same', activation='relu', input_shape=(28,28,1)))\n",
        "cnn.add(layers.MaxPool2D(3, strides=2, padding='same'))\n",
        "cnn.add(layers.Conv2D(128, 3, strides=1, padding='same', activation='relu'))\n",
        "cnn.add(layers.MaxPool2D(3, strides=2, padding='same'))\n",
        "\n",
        "# Classification\n",
        "cnn.add(layers.Flatten())\n",
        "cnn.add(layers.Dense(64, activation='relu'))\n",
        "cnn.add(layers.Dropout(0.25))\n",
        "cnn.add(layers.Dense(10, activation='softmax'))   # 출력층, 카테고리가 3개 이상이어서 softmax"
      ],
      "metadata": {
        "id": "p2fk1MduoiCi"
      },
      "execution_count": null,
      "outputs": []
    },
    {
      "cell_type": "code",
      "source": [
        "cnn.compile(loss = 'sparse_categorical_crossentropy', optimizer = 'adam', metrics = ['acc'])"
      ],
      "metadata": {
        "id": "ENRx7mSuokA6"
      },
      "execution_count": null,
      "outputs": []
    },
    {
      "cell_type": "code",
      "source": [
        "result = cnn.fit(x_train, y_train, epochs = 10, batch_size = 128, validation_data = (x_test, y_test))"
      ],
      "metadata": {
        "colab": {
          "base_uri": "https://localhost:8080/"
        },
        "id": "G_S4b4V5ol-G",
        "outputId": "60b4d761-3f40-465f-dbda-c63181c1824f"
      },
      "execution_count": null,
      "outputs": [
        {
          "output_type": "stream",
          "name": "stdout",
          "text": [
            "Epoch 1/10\n",
            "469/469 [==============================] - 11s 19ms/step - loss: 1.3506 - acc: 0.4757 - val_loss: 0.7989 - val_acc: 0.7054\n",
            "Epoch 2/10\n",
            "469/469 [==============================] - 7s 16ms/step - loss: 0.8521 - acc: 0.6732 - val_loss: 0.7066 - val_acc: 0.7269\n",
            "Epoch 3/10\n",
            "469/469 [==============================] - 8s 18ms/step - loss: 0.7702 - acc: 0.7079 - val_loss: 0.6611 - val_acc: 0.7516\n",
            "Epoch 4/10\n",
            "469/469 [==============================] - 7s 16ms/step - loss: 0.7201 - acc: 0.7279 - val_loss: 0.6122 - val_acc: 0.7659\n",
            "Epoch 5/10\n",
            "469/469 [==============================] - 7s 16ms/step - loss: 0.6885 - acc: 0.7402 - val_loss: 0.5901 - val_acc: 0.7781\n",
            "Epoch 6/10\n",
            "469/469 [==============================] - 8s 16ms/step - loss: 0.6581 - acc: 0.7508 - val_loss: 0.5629 - val_acc: 0.7858\n",
            "Epoch 7/10\n",
            "469/469 [==============================] - 7s 16ms/step - loss: 0.6331 - acc: 0.7588 - val_loss: 0.5404 - val_acc: 0.8003\n",
            "Epoch 8/10\n",
            "469/469 [==============================] - 7s 16ms/step - loss: 0.6156 - acc: 0.7669 - val_loss: 0.5206 - val_acc: 0.8024\n",
            "Epoch 9/10\n",
            "469/469 [==============================] - 8s 16ms/step - loss: 0.6007 - acc: 0.7720 - val_loss: 0.5222 - val_acc: 0.7991\n",
            "Epoch 10/10\n",
            "469/469 [==============================] - 8s 16ms/step - loss: 0.5853 - acc: 0.7774 - val_loss: 0.5071 - val_acc: 0.8098\n"
          ]
        }
      ]
    },
    {
      "cell_type": "code",
      "source": [
        "test_result = cnn.evaluate(x_test, y_test)\n",
        "print('test loss: ', test_result[0])\n",
        "print('test acc: ', test_result[1])"
      ],
      "metadata": {
        "colab": {
          "base_uri": "https://localhost:8080/"
        },
        "id": "VAm62q26ond_",
        "outputId": "12e20c94-d074-4969-8a1c-4b9b774a3990"
      },
      "execution_count": null,
      "outputs": [
        {
          "output_type": "stream",
          "name": "stdout",
          "text": [
            "313/313 [==============================] - 2s 5ms/step - loss: 0.4751 - acc: 0.8226\n",
            "test loss:  0.47514867782592773\n",
            "test acc:  0.8226000070571899\n"
          ]
        }
      ]
    }
  ]
}
