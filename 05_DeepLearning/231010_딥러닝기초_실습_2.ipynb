{
  "nbformat": 4,
  "nbformat_minor": 0,
  "metadata": {
    "colab": {
      "provenance": [],
      "toc_visible": true,
      "authorship_tag": "ABX9TyOjKc7N79pa7UX3yTQoMd0p",
      "include_colab_link": true
    },
    "kernelspec": {
      "name": "python3",
      "display_name": "Python 3"
    },
    "language_info": {
      "name": "python"
    }
  },
  "cells": [
    {
      "cell_type": "markdown",
      "metadata": {
        "id": "view-in-github",
        "colab_type": "text"
      },
      "source": [
        "<a href=\"https://colab.research.google.com/github/mint-rin/SeSAC/blob/main/231010_%EB%94%A5%EB%9F%AC%EB%8B%9D%EA%B8%B0%EC%B4%88_%EC%8B%A4%EC%8A%B5_2.ipynb\" target=\"_parent\"><img src=\"https://colab.research.google.com/assets/colab-badge.svg\" alt=\"Open In Colab\"/></a>"
      ]
    },
    {
      "cell_type": "markdown",
      "source": [
        "x = np.array([[2,0],[4,5],[6,3],[8,5],[10,7]])\n",
        "\n",
        "y = np.array([20, 24, 37, 40, 50])\n",
        "\n",
        "선형회귀 모델을 만들고 '[5,7]'을 넣었을 때 값을 예측해 보세요."
      ],
      "metadata": {
        "id": "8o3km6cNmyGb"
      }
    },
    {
      "cell_type": "code",
      "source": [
        "import numpy as np\n",
        "import tensorflow as tf\n",
        "from tensorflow.keras.models import Sequential\n",
        "from tensorflow.keras.layers import Dense"
      ],
      "metadata": {
        "id": "miPVBDrYm_FO"
      },
      "execution_count": null,
      "outputs": []
    },
    {
      "cell_type": "code",
      "source": [
        "X = np.array([[2,0],[4,5],[6,3],[8,5],[10,7]])\n",
        "y = np.array([20, 24, 37, 40, 50])"
      ],
      "metadata": {
        "id": "SGZYyA9am8OX"
      },
      "execution_count": null,
      "outputs": []
    },
    {
      "cell_type": "code",
      "source": [
        "model = Sequential()"
      ],
      "metadata": {
        "id": "LrF3tw9om-P1"
      },
      "execution_count": null,
      "outputs": []
    },
    {
      "cell_type": "code",
      "source": [
        "model.add(Dense(units=1, input_shape=(2,), activation = 'linear'))"
      ],
      "metadata": {
        "id": "IpTQqOYsongF"
      },
      "execution_count": null,
      "outputs": []
    },
    {
      "cell_type": "code",
      "source": [
        "model.compile(optimizer = 'sgd', loss = 'mse', metrics=['acc'])"
      ],
      "metadata": {
        "id": "_0qZKyYkooJG"
      },
      "execution_count": null,
      "outputs": []
    },
    {
      "cell_type": "code",
      "source": [
        "model.fit(X, y, epochs=1000)"
      ],
      "metadata": {
        "id": "dPNGZlVnophZ"
      },
      "execution_count": null,
      "outputs": []
    },
    {
      "cell_type": "code",
      "source": [
        "print(model.predict([[5, 7]]))"
      ],
      "metadata": {
        "id": "gwaM3iCvouQi"
      },
      "execution_count": null,
      "outputs": []
    }
  ]
}
